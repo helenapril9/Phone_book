{
 "cells": [
  {
   "cell_type": "code",
   "execution_count": 6,
   "metadata": {},
   "outputs": [
    {
     "name": "stdout",
     "output_type": "stream",
     "text": [
      "[['lastname', 'firstname', 'surname', 'organization', 'position', 'phone', 'email'], ['Усольцев', 'Олег', 'Валентинович', 'ФНС', 'главный специалист – эксперт отдела взаимодействия с федеральными органами власти Управления налогообложения имущества и доходов физических лиц', '+7(495)913-04-78', 'opendata@nalog.ru'], ['Мартиняхин', 'Виталий', 'Геннадьевич', 'ФНС', 'cоветник отдела Интернет проектов Управления информационных технологий', '+7(495)913-00-37', ''], ['Наркаев', 'Вячеслав', 'Рифхатович', 'ФНС', '', '+7(495)913-01-68', ''], ['Лукина', 'Ольга', 'Владимировна', 'Минфин', '', '+7(495)983-36-99 доб. 2926', 'Olga.Lukina@minfin.ru'], ['Паньшин', 'Алексей', 'Владимирович', 'Минфин', '', '+7(495)748-49-73', '1248@minfin.ru'], ['Лагунцов', 'Иван', 'Алексеевич', 'Минфин', '', '+7(495)913-11-11 доб. 0792', 'Ivan.Laguntcov@minfin.ru']]\n"
     ]
    }
   ],
   "source": [
    "import re\n",
    "import csv\n",
    "file_name = 'phonebook_raw.csv'\n",
    "with open(file_name, 'r', encoding = 'utf-8') as f:\n",
    "    rows = csv.reader(f, delimiter=\",\")\n",
    "    contacts_list = list(rows)\n",
    "phone_pattern = r'(\\+7|8)(\\s*)(\\(*)(\\d{3})(\\)*)(\\s*)' \\\n",
    "                        r'(\\-*)(\\d{3})(\\s*)(\\-*)(\\d{2})(\\s*)(\\-*)' \\\n",
    "                        r'(\\d{2})(\\s*)(\\(*)(доб)*(\\.*)(\\s*)(\\d+)*(\\)*)'\n",
    "phone_pattern_new = r'+7(\\4)\\8-\\11-\\14\\15\\17\\18\\19\\20'\n",
    "contacts_list_updated = list()\n",
    "for person in contacts_list:\n",
    "    person_as_string = ','.join(person)\n",
    "    formatted_person = re.sub(phone_pattern, phone_pattern_new, person_as_string)\n",
    "    person_as_list = formatted_person.split(',')\n",
    "    contacts_list_updated.append(person_as_list)\n",
    "contacts_list = contacts_list_updated     \n",
    "name_pattern = r'^([А-ЯЁа-яё]+)(\\s*)(\\,?)([А-ЯЁа-яё]+)' \\\n",
    "                   r'(\\s*)(\\,?)([А-ЯЁа-яё]*)(\\,?)(\\,?)(\\,?)'\n",
    "name_pattern_new = r'\\1\\3\\10\\4\\6\\9\\7\\8'\n",
    "contacts_list_updated = list()\n",
    "for person in contacts_list:\n",
    "    person_as_string = ','.join(person)\n",
    "    formatted_person = re.sub(name_pattern, name_pattern_new, person_as_string)\n",
    "    person_as_list = formatted_person.split(',')\n",
    "    contacts_list_updated.append(person_as_list)\n",
    "contacts_list = contacts_list_updated     \n",
    "for i in contacts_list:\n",
    "    for j in contacts_list:\n",
    "        if i[0] == j[0] and i[1] == j[1] and i is not j:\n",
    "            if i[2] == '':\n",
    "                i[2] = j[2]\n",
    "            if i[3] == '':\n",
    "                i[3] = j[3]\n",
    "            if i[4] == '':\n",
    "                i[4] = j[4]\n",
    "            if i[5] == '':\n",
    "                i[5] = j[5]\n",
    "            if i[6] == '':\n",
    "                i[6] = j[6]\n",
    "for i in contacts_list:\n",
    "    for j in contacts_list:\n",
    "        if len(j) > 7:\n",
    "            del j[7:]\n",
    "contacts_list_updated = list()\n",
    "for person in contacts_list:\n",
    "    if person not in contacts_list_updated:\n",
    "        contacts_list_updated.append(person)\n",
    "print(contacts_list_updated)\n",
    "with open(\"phone_book_formatted.csv\", \"w\") as f:\n",
    "    data_writer = csv.writer(f, delimiter=',')\n",
    "    data_writer.writerows(contacts_list_updated)\n"
   ]
  }
 ],
 "metadata": {
  "kernelspec": {
   "display_name": "Python 3.8.8 ('base')",
   "language": "python",
   "name": "python3"
  },
  "language_info": {
   "codemirror_mode": {
    "name": "ipython",
    "version": 3
   },
   "file_extension": ".py",
   "mimetype": "text/x-python",
   "name": "python",
   "nbconvert_exporter": "python",
   "pygments_lexer": "ipython3",
   "version": "3.8.8"
  },
  "orig_nbformat": 4,
  "vscode": {
   "interpreter": {
    "hash": "073e97d9edce391f5d16825652497352d8c5f972d2913fd0dc21756dd309c531"
   }
  }
 },
 "nbformat": 4,
 "nbformat_minor": 2
}
